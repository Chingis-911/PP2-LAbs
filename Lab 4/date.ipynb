{
 "cells": [
  {
   "cell_type": "markdown",
   "metadata": {},
   "source": [
    "TASK 1"
   ]
  },
  {
   "cell_type": "code",
   "execution_count": 3,
   "metadata": {},
   "outputs": [
    {
     "name": "stdout",
     "output_type": "stream",
     "text": [
      "Date five days ago : 2025-02-16 20:04:25.328206\n"
     ]
    }
   ],
   "source": [
    "from datetime import datetime \n",
    "from datetime  import timedelta\n",
    "\n",
    "now = datetime.now()\n",
    "\n",
    "past = now - timedelta(days = 5)\n",
    "print(f\"Date five days ago : {past}\")\n",
    "\n",
    "\n",
    "\n"
   ]
  },
  {
   "cell_type": "markdown",
   "metadata": {},
   "source": [
    "TASK 2"
   ]
  },
  {
   "cell_type": "code",
   "execution_count": 4,
   "metadata": {},
   "outputs": [
    {
     "name": "stdout",
     "output_type": "stream",
     "text": [
      "Date five days ago : 2025-02-20 20:06:22.522300/n\n",
      "Future date : 2025-02-22 20:06:22.522300\n"
     ]
    }
   ],
   "source": [
    "from datetime import datetime \n",
    "from datetime  import timedelta\n",
    "\n",
    "now = datetime.now()\n",
    "\n",
    "past = now - timedelta(days = 1)\n",
    "future = now + timedelta(days = 1)\n",
    "\n",
    "print(f\"Date five days ago : {past}/n\")\n",
    "print(f\"Future date : {future}\")\n",
    "\n",
    "\n",
    "\n"
   ]
  },
  {
   "cell_type": "markdown",
   "metadata": {},
   "source": [
    "TASK 3"
   ]
  },
  {
   "cell_type": "code",
   "execution_count": 5,
   "metadata": {},
   "outputs": [
    {
     "name": "stdout",
     "output_type": "stream",
     "text": [
      "The current date : 2025-02-21 20:12:12\n"
     ]
    }
   ],
   "source": [
    "from datetime import datetime \n",
    "from datetime  import timedelta\n",
    "\n",
    "now = datetime.now()\n",
    "formatted = now.strftime(\"%Y-%m-%d %H:%M:%S\")\n",
    "\n",
    "print(f\"The current date : {formatted}\")\n",
    "\n",
    "\n",
    "\n"
   ]
  },
  {
   "cell_type": "markdown",
   "metadata": {},
   "source": [
    "TASK 4"
   ]
  },
  {
   "cell_type": "code",
   "execution_count": 15,
   "metadata": {},
   "outputs": [
    {
     "name": "stdout",
     "output_type": "stream",
     "text": [
      "Difference in seconds : 580812394.0\n"
     ]
    }
   ],
   "source": [
    "from datetime import datetime \n",
    "\n",
    "def date_def(x,y):\n",
    "   format_str = \"%Y-%m-%d %H:%M:%S\"\n",
    "   d1 = datetime.strptime(x, format_str)\n",
    "   d2 = datetime.strptime(y, format_str)\n",
    "\n",
    "   diff = abs((d2 - d1).total_seconds())\n",
    "   return diff\n",
    "\n",
    "date1 = input(\"Enet first date : \")\n",
    "date2 = input(\"Enter second date : \")\n",
    "\n",
    "diff_fin = date_def(date1,date2)\n",
    "print(f\"Difference in seconds : {diff_fin}\")\n",
    "\n",
    "\n",
    "\n"
   ]
  }
 ],
 "metadata": {
  "kernelspec": {
   "display_name": "Python 3",
   "language": "python",
   "name": "python3"
  },
  "language_info": {
   "codemirror_mode": {
    "name": "ipython",
    "version": 3
   },
   "file_extension": ".py",
   "mimetype": "text/x-python",
   "name": "python",
   "nbconvert_exporter": "python",
   "pygments_lexer": "ipython3",
   "version": "3.13.1"
  }
 },
 "nbformat": 4,
 "nbformat_minor": 2
}
