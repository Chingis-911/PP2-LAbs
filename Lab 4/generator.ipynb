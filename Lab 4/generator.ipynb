{
 "cells": [
  {
   "cell_type": "markdown",
   "metadata": {},
   "source": [
    "TASK 1"
   ]
  },
  {
   "cell_type": "code",
   "execution_count": 3,
   "metadata": {},
   "outputs": [
    {
     "name": "stdout",
     "output_type": "stream",
     "text": [
      "1\n",
      "4\n",
      "9\n",
      "16\n",
      "25\n"
     ]
    }
   ],
   "source": [
    "list1 = []\n",
    "def generator(max_value):\n",
    "\n",
    "    while(max_value > 0):\n",
    "        c = max_value**2\n",
    "        list1.append(c)\n",
    "        max_value = max_value - 1\n",
    "\n",
    "\n",
    "\n",
    "x = int(input(\"Enter some number : \"))\n",
    "generator(x) \n",
    "list1.sort()       \n",
    "for i in list1 :\n",
    "    print(i)"
   ]
  },
  {
   "cell_type": "markdown",
   "metadata": {},
   "source": [
    "TASK 2"
   ]
  },
  {
   "cell_type": "code",
   "execution_count": 4,
   "metadata": {},
   "outputs": [
    {
     "name": "stdout",
     "output_type": "stream",
     "text": [
      "[2, 4]\n"
     ]
    }
   ],
   "source": [
    "list1 = []\n",
    "def generator(max_value):\n",
    "\n",
    "    while(max_value > 0):\n",
    "        if max_value % 2 == 0:\n",
    "         list1.append(max_value)\n",
    "        max_value = max_value - 1\n",
    "\n",
    "\n",
    "\n",
    "x = int(input(\"Enter some number : \"))\n",
    "generator(x) \n",
    "list1.sort()       \n",
    "print(list1)"
   ]
  },
  {
   "cell_type": "markdown",
   "metadata": {},
   "source": [
    "TASK 3"
   ]
  },
  {
   "cell_type": "code",
   "execution_count": 7,
   "metadata": {},
   "outputs": [
    {
     "name": "stdout",
     "output_type": "stream",
     "text": [
      "3\n",
      "4\n",
      "6\n",
      "8\n",
      "9\n",
      "12\n",
      "15\n",
      "16\n"
     ]
    }
   ],
   "source": [
    "list1 = []\n",
    "def generator(max_value):\n",
    "\n",
    "    while(max_value > 0):\n",
    "        if max_value % 3 == 0 or max_value % 4 == 0:\n",
    "         list1.append(max_value)\n",
    "        max_value = max_value - 1\n",
    "\n",
    "\n",
    "\n",
    "x = int(input(\"Enter some number : \"))\n",
    "generator(x) \n",
    "list1.sort()       \n",
    "for i in list1 :\n",
    "    print(i)"
   ]
  },
  {
   "cell_type": "markdown",
   "metadata": {},
   "source": [
    "TASK 4"
   ]
  },
  {
   "cell_type": "code",
   "execution_count": 16,
   "metadata": {},
   "outputs": [
    {
     "name": "stdout",
     "output_type": "stream",
     "text": [
      "1\n",
      "4\n",
      "9\n",
      "16\n",
      "25\n",
      "36\n"
     ]
    }
   ],
   "source": [
    "def squares(a, b):\n",
    "    for i in range(a, b + 1):\n",
    "        yield i ** 2 \n",
    "\n",
    "\n",
    "x = int(input(\"Enter starting number: \"))\n",
    "y = int(input(\"Enter final number: \"))\n",
    "\n",
    "\n",
    "for square in squares(x, y):\n",
    "    print(square)\n"
   ]
  },
  {
   "cell_type": "markdown",
   "metadata": {},
   "source": [
    "TASK 5"
   ]
  },
  {
   "cell_type": "code",
   "execution_count": null,
   "metadata": {},
   "outputs": [
    {
     "name": "stdout",
     "output_type": "stream",
     "text": [
      "7\n",
      "6\n",
      "5\n",
      "4\n",
      "3\n",
      "2\n",
      "1\n"
     ]
    }
   ],
   "source": [
    "list1 = []\n",
    "def generator(max_value):\n",
    "\n",
    "    while(max_value  >= 0):\n",
    "        list1.append(max_value)\n",
    "        max_value = max_value - 1\n",
    "\n",
    "\n",
    "\n",
    "x = int(input(\"Enter some number : \"))\n",
    "generator(x)  \n",
    "for i in list1 :\n",
    "    print(i)"
   ]
  }
 ],
 "metadata": {
  "kernelspec": {
   "display_name": "Python 3",
   "language": "python",
   "name": "python3"
  },
  "language_info": {
   "codemirror_mode": {
    "name": "ipython",
    "version": 3
   },
   "file_extension": ".py",
   "mimetype": "text/x-python",
   "name": "python",
   "nbconvert_exporter": "python",
   "pygments_lexer": "ipython3",
   "version": "3.13.1"
  }
 },
 "nbformat": 4,
 "nbformat_minor": 2
}
