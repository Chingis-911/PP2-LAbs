{
 "cells": [
  {
   "cell_type": "markdown",
   "metadata": {},
   "source": [
    "TASK 1"
   ]
  },
  {
   "cell_type": "code",
   "execution_count": 4,
   "metadata": {},
   "outputs": [
    {
     "name": "stdout",
     "output_type": "stream",
     "text": [
      "Output radian : 0.261750\n"
     ]
    }
   ],
   "source": [
    "x = int(input(\"Enter a degree :\"))\n",
    "c = float(x * 3.141)/180\n",
    "print(f\"Output radian : {c:.6f}\")"
   ]
  },
  {
   "cell_type": "markdown",
   "metadata": {},
   "source": [
    "TASK 2"
   ]
  },
  {
   "cell_type": "code",
   "execution_count": 5,
   "metadata": {},
   "outputs": [
    {
     "name": "stdout",
     "output_type": "stream",
     "text": [
      "The  total area : 27.5\n"
     ]
    }
   ],
   "source": [
    "h = int(input(\"Enter a height of trapezoid : \"))\n",
    "b1 = int(input(\"Enter base 1 value : \"))\n",
    "b2 = int(input(\"Enter base 2 value : \"))\n",
    "area = float((b1 + b2)/2)*h\n",
    "print(f\"The  total area : {area:.1f}\")"
   ]
  },
  {
   "cell_type": "markdown",
   "metadata": {},
   "source": [
    "TASK 3"
   ]
  },
  {
   "cell_type": "code",
   "execution_count": 7,
   "metadata": {},
   "outputs": [
    {
     "name": "stdout",
     "output_type": "stream",
     "text": [
      "The final area : 625\n"
     ]
    }
   ],
   "source": [
    "import math\n",
    "\n",
    "n1 = int(input(\"Enter number of sides : \"))\n",
    "ls = int(input(\"Enter the length of a side : \"))\n",
    "\n",
    "fin =(n1 * ls**2) / (4 * math.tan(math.pi / n1)) \n",
    "print(f\"The final area : {fin:.0f}\")\n"
   ]
  },
  {
   "cell_type": "markdown",
   "metadata": {},
   "source": [
    "TASK 4 "
   ]
  },
  {
   "cell_type": "code",
   "execution_count": 9,
   "metadata": {},
   "outputs": [
    {
     "name": "stdout",
     "output_type": "stream",
     "text": [
      "The final area : 30.0\n"
     ]
    }
   ],
   "source": [
    "length = int(input(\"Enter the length : \"))\n",
    "height = int(input(\"Enter the height : \"))\n",
    "area = length * height\n",
    "print(f\"The final area : {area:.1f}\")"
   ]
  }
 ],
 "metadata": {
  "kernelspec": {
   "display_name": "Python 3",
   "language": "python",
   "name": "python3"
  },
  "language_info": {
   "codemirror_mode": {
    "name": "ipython",
    "version": 3
   },
   "file_extension": ".py",
   "mimetype": "text/x-python",
   "name": "python",
   "nbconvert_exporter": "python",
   "pygments_lexer": "ipython3",
   "version": "3.13.1"
  }
 },
 "nbformat": 4,
 "nbformat_minor": 2
}
