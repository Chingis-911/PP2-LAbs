{
 "cells": [
  {
   "cell_type": "markdown",
   "metadata": {},
   "source": [
    "TASK 1"
   ]
  },
  {
   "cell_type": "code",
   "execution_count": 2,
   "metadata": {},
   "outputs": [
    {
     "name": "stdout",
     "output_type": "stream",
     "text": [
      "Directories:\n",
      "[]\n",
      "\n",
      "Files:\n",
      "['s1.txt']\n",
      "\n",
      "All Directories and Files:\n",
      "['s1.txt']\n"
     ]
    }
   ],
   "source": [
    "import os\n",
    "\n",
    "def list_contents(path):\n",
    "    \"\"\"Lists directories, files, and both in a given path.\"\"\"\n",
    "    if not os.path.exists(path):\n",
    "        print(\"Path does not exist.\")\n",
    "        return\n",
    "    \n",
    "    directories = [d for d in os.listdir(path) if os.path.isdir(os.path.join(path, d))]\n",
    "    files = [f for f in os.listdir(path) if os.path.isfile(os.path.join(path, f))]\n",
    "    \n",
    "    print(\"Directories:\")\n",
    "    print(directories)\n",
    "\n",
    "    print(\"\\nFiles:\")\n",
    "    print(files)\n",
    "\n",
    "    print(\"\\nAll Directories and Files:\")\n",
    "    print(os.listdir(path))\n",
    "\n",
    "\n",
    "path = input(\"Enter the directory path: \")\n",
    "list_contents(path)\n"
   ]
  },
  {
   "cell_type": "markdown",
   "metadata": {},
   "source": [
    "TASK 2"
   ]
  },
  {
   "cell_type": "code",
   "execution_count": 3,
   "metadata": {},
   "outputs": [
    {
     "name": "stdout",
     "output_type": "stream",
     "text": [
      "File exists\n",
      "The path is readable\n",
      "The path is writable\n",
      "The path is executable\n"
     ]
    }
   ],
   "source": [
    "import os\n",
    "\n",
    "def checks(path):\n",
    "    if os.path.exists(path):\n",
    "        print(\"File exists\")\n",
    "    else:\n",
    "        print(\"File does not exist\")\n",
    "        return\n",
    "\n",
    "    if os.access(path, os.R_OK):\n",
    "        print(\"The path is readable\")\n",
    "    else:\n",
    "        print(\"The path is not readable\")    \n",
    "\n",
    "\n",
    "    if os.access(path, os.W_OK):\n",
    "        print(\"The path is writable\")\n",
    "    else:\n",
    "        print(\"The path is not writable\")\n",
    "\n",
    "\n",
    "    if os.access(path, os.X_OK):\n",
    "        print(\"The path is executable\")\n",
    "    else:\n",
    "        print(\"The path is not executable\")\n",
    "\n",
    "path = input(\"Enter your path  : \")\n",
    "checks(path)\n",
    "\n",
    "\n",
    "\n",
    "\n",
    "\n",
    "\n",
    "\n",
    "\n",
    "\n",
    "\n",
    "\n",
    "\n"
   ]
  },
  {
   "cell_type": "markdown",
   "metadata": {},
   "source": [
    "TASK 3"
   ]
  },
  {
   "cell_type": "code",
   "execution_count": 9,
   "metadata": {},
   "outputs": [
    {
     "name": "stdout",
     "output_type": "stream",
     "text": [
      "['s1.txt']\n"
     ]
    }
   ],
   "source": [
    "import os\n",
    "\n",
    "\n",
    "def names(path):\n",
    "    if os.path.exists(path):\n",
    "        \n",
    "        print(os.listdir(path))\n",
    "    else:\n",
    "        print(\"No such path exists\")\n",
    "        return    \n",
    "    \n",
    "\n",
    "\n",
    "path = input(\"Enter your path : \")\n",
    "names(path)    "
   ]
  },
  {
   "cell_type": "markdown",
   "metadata": {},
   "source": [
    "TASK 4"
   ]
  },
  {
   "cell_type": "code",
   "execution_count": 13,
   "metadata": {},
   "outputs": [
    {
     "name": "stdout",
     "output_type": "stream",
     "text": [
      "Number of lines : 4\n"
     ]
    }
   ],
   "source": [
    "import os\n",
    "\n",
    "\n",
    "def cnt(path):\n",
    "    if os.path.exists(path):\n",
    "     with open(path,'r') as file:\n",
    "        lines = file.readlines()\n",
    "        print(f\"Number of lines : {len(lines)}\")   \n",
    "        \n",
    "    else:\n",
    "        print(\"No such path exists\")\n",
    "        return    \n",
    "    \n",
    "\n",
    "\n",
    "path = input(\"Enter your path to the file : \")\n",
    "cnt(path)    "
   ]
  },
  {
   "cell_type": "markdown",
   "metadata": {},
   "source": [
    "TASK 5"
   ]
  },
  {
   "cell_type": "code",
   "execution_count": 17,
   "metadata": {},
   "outputs": [
    {
     "name": "stdout",
     "output_type": "stream",
     "text": [
      "Done\n"
     ]
    }
   ],
   "source": [
    "import os\n",
    "\n",
    "def write_list_to_file(file_path, data):\n",
    "    with open(file_path, 'w') as file:\n",
    "            file.write(str(data) + '\\n')\n",
    "            print(\"Done\")\n",
    "\n",
    "file_path = input(\"Enter yoy file path : \")\n",
    "data = input(\"Enter  line you are wanna add :\")\n",
    "write_list_to_file(file_path,data)            "
   ]
  },
  {
   "cell_type": "markdown",
   "metadata": {},
   "source": [
    "TASK 6 "
   ]
  },
  {
   "cell_type": "code",
   "execution_count": 21,
   "metadata": {},
   "outputs": [
    {
     "name": "stdout",
     "output_type": "stream",
     "text": [
      "Done\n"
     ]
    }
   ],
   "source": [
    "import os\n",
    "import string\n",
    "\n",
    "def gen(file_path):\n",
    "    for let in string.ascii_uppercase:\n",
    "        name = f\"{let}.txt\"\n",
    "        with open(file_path,'a') as file:\n",
    "            file.write(f\"{name}\\n\")\n",
    "    print(\"Done\")\n",
    "\n",
    "x = input(\"Enter your path to file : \")\n",
    "gen(x)            "
   ]
  },
  {
   "cell_type": "markdown",
   "metadata": {},
   "source": [
    "TASK 7 "
   ]
  },
  {
   "cell_type": "code",
   "execution_count": 25,
   "metadata": {},
   "outputs": [
    {
     "name": "stdout",
     "output_type": "stream",
     "text": [
      "Done\n"
     ]
    }
   ],
   "source": [
    "import os\n",
    "\n",
    "def gen(file_path1,):\n",
    "    for let in string.ascii_uppercase:\n",
    "        name = f\"{let}.txt\"\n",
    "        with open(file_path,'a') as file:\n",
    "            file.write(f\"{name}\\n\")\n",
    "    print(\"Done\")\n",
    "\n",
    "x = input(\"Enter your path to file : \")\n",
    "gen(x)            "
   ]
  },
  {
   "cell_type": "markdown",
   "metadata": {},
   "source": [
    "TASK 8"
   ]
  },
  {
   "cell_type": "code",
   "execution_count": 26,
   "metadata": {},
   "outputs": [
    {
     "name": "stdout",
     "output_type": "stream",
     "text": [
      "File deleted successfully.\n"
     ]
    }
   ],
   "source": [
    "import os\n",
    "\n",
    "def delete_file(file_path):\n",
    "    if os.path.exists(file_path):\n",
    "        if os.access(file_path, os.W_OK):\n",
    "            os.remove(file_path)\n",
    "            print(\"File deleted successfully.\")\n",
    "        else:\n",
    "            print(\"File is not writable. Cannot delete.\")\n",
    "    else:\n",
    "        print(\"File does not exist.\")\n",
    "\n",
    "\n",
    "file_path = input(\"Enter file path to delete: \")\n",
    "delete_file(file_path)\n"
   ]
  }
 ],
 "metadata": {
  "kernelspec": {
   "display_name": "Python 3",
   "language": "python",
   "name": "python3"
  },
  "language_info": {
   "codemirror_mode": {
    "name": "ipython",
    "version": 3
   },
   "file_extension": ".py",
   "mimetype": "text/x-python",
   "name": "python",
   "nbconvert_exporter": "python",
   "pygments_lexer": "ipython3",
   "version": "3.13.1"
  }
 },
 "nbformat": 4,
 "nbformat_minor": 2
}
