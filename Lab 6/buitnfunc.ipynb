{
 "cells": [
  {
   "cell_type": "markdown",
   "metadata": {},
   "source": [
    "TASK 1"
   ]
  },
  {
   "cell_type": "code",
   "execution_count": 2,
   "metadata": {},
   "outputs": [
    {
     "name": "stdout",
     "output_type": "stream",
     "text": [
      "120\n"
     ]
    }
   ],
   "source": [
    "import math\n",
    "\n",
    "list1 = list(map(int,input(\"Enter your numbers : \").split()))\n",
    "\n",
    "x = math.prod(list1)\n",
    "print(x)\n"
   ]
  },
  {
   "cell_type": "markdown",
   "metadata": {},
   "source": [
    "TASK 2"
   ]
  },
  {
   "cell_type": "code",
   "execution_count": 5,
   "metadata": {},
   "outputs": [
    {
     "name": "stdout",
     "output_type": "stream",
     "text": [
      "Number of uppercase letters : 4\n",
      "Number of lowercase letters : 9\n"
     ]
    }
   ],
   "source": [
    "x = input(\"Enter your word : \")\n",
    "\n",
    "cnt1 = 0\n",
    "cnt2 = 0\n",
    "for i in x:\n",
    "    if i == i.upper():\n",
    "         cnt1 += 1\n",
    "    if i == i.lower():\n",
    "         cnt2 += 1   \n",
    "\n",
    "print(f\"Number of uppercase letters : {cnt1}\")\n",
    "print(f\"Number of lowercase letters : {cnt2}\")\n",
    "           "
   ]
  },
  {
   "cell_type": "markdown",
   "metadata": {},
   "source": [
    "TASK 3"
   ]
  },
  {
   "cell_type": "code",
   "execution_count": 15,
   "metadata": {},
   "outputs": [
    {
     "name": "stdout",
     "output_type": "stream",
     "text": [
      "No,not palindrome\n"
     ]
    }
   ],
   "source": [
    "x = input(\"Enter your string : \")\n",
    "\n",
    "if \"\".join(reversed(x.lower())) == x.lower():\n",
    "    print(\"Yes,palindrome\")\n",
    "else:\n",
    "    print(\"No,not palindrome\")    "
   ]
  },
  {
   "cell_type": "markdown",
   "metadata": {},
   "source": [
    "TASK 4"
   ]
  },
  {
   "cell_type": "code",
   "execution_count": 17,
   "metadata": {},
   "outputs": [
    {
     "name": "stdout",
     "output_type": "stream",
     "text": [
      "Square root of 20100.0 after 2364.0 milliseconds is 141.77446878757826\n"
     ]
    }
   ],
   "source": [
    "import math\n",
    "import time\n",
    "\n",
    "x = float(input(\"Enter your number : \"))\n",
    "t = float(input(\"Enter amount of time : \"))\n",
    "\n",
    "t1 = t / 1000.0\n",
    "c = math.sqrt(x)\n",
    "time.sleep(t1)\n",
    "\n",
    "print(f\"Square root of {x} after {t} milliseconds is {c}\")\n"
   ]
  },
  {
   "cell_type": "markdown",
   "metadata": {},
   "source": [
    "TASK 5"
   ]
  },
  {
   "cell_type": "code",
   "execution_count": 40,
   "metadata": {},
   "outputs": [
    {
     "name": "stdout",
     "output_type": "stream",
     "text": [
      "False\n"
     ]
    }
   ],
   "source": [
    "def convert_value(c):\n",
    "    \n",
    "    if c.lower() == \"false\":\n",
    "        return False\n",
    "    elif c.isdigit():\n",
    "       return int(t)\n",
    "    if int(t) == 0:\n",
    "      return False      \n",
    "    \n",
    "def all_elements_true(t):\n",
    " return all(t)\n",
    "\n",
    "\n",
    "user_input = tuple(convert_value(x) for x in input(\"Enter elements separated by space: \").split())\n",
    "\n",
    "\n",
    "print(all_elements_true(user_input))\n"
   ]
  }
 ],
 "metadata": {
  "kernelspec": {
   "display_name": "Python 3",
   "language": "python",
   "name": "python3"
  },
  "language_info": {
   "codemirror_mode": {
    "name": "ipython",
    "version": 3
   },
   "file_extension": ".py",
   "mimetype": "text/x-python",
   "name": "python",
   "nbconvert_exporter": "python",
   "pygments_lexer": "ipython3",
   "version": "3.13.1"
  }
 },
 "nbformat": 4,
 "nbformat_minor": 2
}
