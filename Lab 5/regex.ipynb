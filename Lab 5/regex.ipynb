{
 "cells": [
  {
   "cell_type": "markdown",
   "metadata": {},
   "source": [
    "TASK 1"
   ]
  },
  {
   "cell_type": "code",
   "execution_count": 1,
   "metadata": {},
   "outputs": [
    {
     "name": "stdout",
     "output_type": "stream",
     "text": [
      "Right word!\n"
     ]
    }
   ],
   "source": [
    "import re\n",
    "\n",
    "text = input(\"Enter your text : \")\n",
    "\n",
    "match = re.findall(r'^ab*$',text)\n",
    "\n",
    "if match :\n",
    "    print(\"Right word!\")\n",
    "else :\n",
    "    print(\"No :(\")    "
   ]
  },
  {
   "cell_type": "markdown",
   "metadata": {},
   "source": [
    "TASK 2"
   ]
  },
  {
   "cell_type": "code",
   "execution_count": 34,
   "metadata": {},
   "outputs": [
    {
     "name": "stdout",
     "output_type": "stream",
     "text": [
      "No :(\n"
     ]
    }
   ],
   "source": [
    "import re\n",
    "\n",
    "text = input(\"Enter your text : \")\n",
    "\n",
    "match = re.findall(r'^abb$|^abbb$',text)\n",
    "\n",
    "if match :\n",
    "    print(\"Right word!\")\n",
    "else :\n",
    "    print(\"No :(\")    "
   ]
  },
  {
   "cell_type": "markdown",
   "metadata": {},
   "source": [
    "TASK 3"
   ]
  },
  {
   "cell_type": "code",
   "execution_count": 38,
   "metadata": {},
   "outputs": [
    {
     "name": "stdout",
     "output_type": "stream",
     "text": [
      "yes\n"
     ]
    }
   ],
   "source": [
    "import re\n",
    "\n",
    "x = input(\"Write your sequence : \")\n",
    "\n",
    "match = re.findall(r'^[a-z]+(_[a-z]+)*$',x)\n",
    "\n",
    "\n",
    "if match :\n",
    "    print(\"yes\")\n",
    "else :\n",
    "    print(\"No\")    \n"
   ]
  },
  {
   "cell_type": "markdown",
   "metadata": {},
   "source": [
    "TASK 4"
   ]
  },
  {
   "cell_type": "code",
   "execution_count": 40,
   "metadata": {},
   "outputs": [
    {
     "name": "stdout",
     "output_type": "stream",
     "text": [
      "No\n"
     ]
    }
   ],
   "source": [
    "import re\n",
    "\n",
    "x = input(\"Write your sequence : \")\n",
    "\n",
    "match = re.findall(r'^[A-Z]+([a-z]+)*$',x)\n",
    "\n",
    "\n",
    "if match :\n",
    "    print(\"yes\")\n",
    "else :\n",
    "    print(\"No\")    \n"
   ]
  },
  {
   "cell_type": "markdown",
   "metadata": {},
   "source": [
    "TASK 5"
   ]
  },
  {
   "cell_type": "code",
   "execution_count": 65,
   "metadata": {},
   "outputs": [
    {
     "name": "stdout",
     "output_type": "stream",
     "text": [
      "yes\n"
     ]
    }
   ],
   "source": [
    "import re\n",
    "\n",
    "x = input(\"Write your sequence : \")\n",
    "\n",
    "match = re.findall(r'[^a*]+[b$]',x)\n",
    "\n",
    "\n",
    "if match :\n",
    "    print(\"yes\")\n",
    "else :\n",
    "    print(\"No\")    \n"
   ]
  },
  {
   "cell_type": "markdown",
   "metadata": {},
   "source": [
    "TASK 6"
   ]
  },
  {
   "cell_type": "code",
   "execution_count": 7,
   "metadata": {},
   "outputs": [
    {
     "name": "stdout",
     "output_type": "stream",
     "text": [
      "ccsdc:sdw:wwd:::\n"
     ]
    }
   ],
   "source": [
    "import re\n",
    "\n",
    "x = input(\"Enter your text : \")\n",
    "\n",
    "match = re.sub(r'[,  .]',':',x)\n",
    "\n",
    "print(match)\n"
   ]
  },
  {
   "cell_type": "markdown",
   "metadata": {},
   "source": [
    "TASK 7"
   ]
  },
  {
   "cell_type": "code",
   "execution_count": null,
   "metadata": {},
   "outputs": [
    {
     "name": "stdout",
     "output_type": "stream",
     "text": [
      "effe mmmm aaaa\n",
      "effeMmmmAaaa\n"
     ]
    }
   ],
   "source": [
    "import re\n",
    "\n",
    "x = input(\"Enter your text : \")\n",
    "\n",
    "match = re.sub(r'_', ' ',x)\n",
    "\n",
    "def upperc(z):\n",
    "    words = z.split()\n",
    "    return words[0].lower() + \"\".join(word.capitalize() for word in words[1:])\n",
    "\n",
    "lol = upperc(match)\n",
    "\n",
    "print(lol)\n"
   ]
  },
  {
   "cell_type": "markdown",
   "metadata": {},
   "source": [
    "TASK 8"
   ]
  },
  {
   "cell_type": "code",
   "execution_count": 29,
   "metadata": {},
   "outputs": [
    {
     "name": "stdout",
     "output_type": "stream",
     "text": [
      "['', 'Aaa', 'Bbbb']\n"
     ]
    }
   ],
   "source": [
    "import re\n",
    "\n",
    "x = input(\"Enter your text :\")\n",
    "\n",
    "match = re.split(r'(?=[A-Z])',x)\n",
    "\n",
    "print(match)\n",
    "\n",
    "\n"
   ]
  },
  {
   "cell_type": "markdown",
   "metadata": {},
   "source": [
    "Task 9"
   ]
  },
  {
   "cell_type": "code",
   "execution_count": 42,
   "metadata": {},
   "outputs": [
    {
     "name": "stdout",
     "output_type": "stream",
     "text": [
      "Apt Apt\n"
     ]
    }
   ],
   "source": [
    "import re\n",
    "\n",
    "x = input(\"Enter your text : \")\n",
    "y = \"\"\n",
    "match = re.split(r'(?=[A-Z])',x)\n",
    "for word in match:\n",
    "    if len(y) == 0:\n",
    "        y += word\n",
    "    else:\n",
    "        y = y + \" \" + word\n",
    "\n",
    "print(y)\n",
    "\n"
   ]
  },
  {
   "cell_type": "markdown",
   "metadata": {},
   "source": [
    "TASK 10"
   ]
  },
  {
   "cell_type": "code",
   "execution_count": null,
   "metadata": {},
   "outputs": [
    {
     "name": "stdout",
     "output_type": "stream",
     "text": [
      "Apt_Apt\n"
     ]
    }
   ],
   "source": [
    "import re\n",
    "\n",
    "x = input(\"Enter your text : \")\n",
    "y = \"\"\n",
    "match = re.split(r'(?=[A-Z])',x)\n",
    "for word in match:\n",
    "    if len(y) == 0:\n",
    "     y += word\n",
    "    else:\n",
    "       y = y + \"_\" + word\n",
    "match2 = re.sub(r' ','_',y)\n",
    "print(match2)\n",
    "\n",
    "\n"
   ]
  }
 ],
 "metadata": {
  "kernelspec": {
   "display_name": "Python 3",
   "language": "python",
   "name": "python3"
  },
  "language_info": {
   "codemirror_mode": {
    "name": "ipython",
    "version": 3
   },
   "file_extension": ".py",
   "mimetype": "text/x-python",
   "name": "python",
   "nbconvert_exporter": "python",
   "pygments_lexer": "ipython3",
   "version": "3.13.1"
  }
 },
 "nbformat": 4,
 "nbformat_minor": 2
}
